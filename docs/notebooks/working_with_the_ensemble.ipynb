{
 "cells": [
  {
   "attachments": {},
   "cell_type": "markdown",
   "metadata": {},
   "source": [
    "# Working with the lsstseries `Ensemble` object"
   ]
  },
  {
   "attachments": {},
   "cell_type": "markdown",
   "metadata": {},
   "source": [
    "When working with many lightcurves, the lsstseries `Ensemble` object serves as a singular interface for storing, filtering, and analyzing timeseries data. \n",
    "Let's consider an example set of lightcurves:"
   ]
  },
  {
   "cell_type": "code",
   "execution_count": 1,
   "metadata": {},
   "outputs": [
    {
     "data": {
      "text/plain": [
       "<lsstseries.ensemble.Ensemble at 0x10619f640>"
      ]
     },
     "execution_count": 1,
     "metadata": {},
     "output_type": "execute_result"
    }
   ],
   "source": [
    "from lsstseries.ensemble import Ensemble\n",
    "\n",
    "ens = Ensemble()  # initialize an ensemble object\n",
    "\n",
    "# Read in data from a parquet file\n",
    "ens.from_parquet(\"../../tests/lsstseries_tests/data/test_subset.parquet\",\n",
    "                id_col='ps1_objid',\n",
    "                time_col='midPointTai',\n",
    "                flux_col='psFlux',\n",
    "                err_col='psFluxErr',\n",
    "                band_col='filterName')"
   ]
  },
  {
   "attachments": {},
   "cell_type": "markdown",
   "metadata": {},
   "source": [
    "We now have an `Ensemble` object, and have provided it with data from a parquet file. Within the call to `Ensemble.from_parquet`, we specified which columns of the input file mapped to timeseries quantities that the `Ensemble` needs to understand. It's important to link these arguments properly, as the `Ensemble` will use these columns when operations are requested on understood quantities. For example, if an lsstseries analysis function requires the time column, from this linking the `Ensemble` will automatically supply that function with the 'midPointTai' column."
   ]
  },
  {
   "attachments": {},
   "cell_type": "markdown",
   "metadata": {},
   "source": [
    "## Dask and \"Lazy Evaluation\"\n",
    "\n",
    "Before going any further, the `Ensemble` is built on top of `Dask`, which brings with it a powerful framework for parallelization and scalability. However, there are some differences in how `Dask` code works that, if you're unfamiliar with it, is worth establishing right here at the get-go. The first is that `Dask` evaluates code \"lazily\". Meaning that many operations are not executed when the line of code is run, but instead are added to a scheduler to be executed when the result is actually needed. See below for an example:"
   ]
  },
  {
   "cell_type": "code",
   "execution_count": 2,
   "metadata": {},
   "outputs": [
    {
     "data": {
      "text/html": [
       "<div><strong>Dask DataFrame Structure:</strong></div>\n",
       "<div>\n",
       "<style scoped>\n",
       "    .dataframe tbody tr th:only-of-type {\n",
       "        vertical-align: middle;\n",
       "    }\n",
       "\n",
       "    .dataframe tbody tr th {\n",
       "        vertical-align: top;\n",
       "    }\n",
       "\n",
       "    .dataframe thead th {\n",
       "        text-align: right;\n",
       "    }\n",
       "</style>\n",
       "<table border=\"1\" class=\"dataframe\">\n",
       "  <thead>\n",
       "    <tr style=\"text-align: right;\">\n",
       "      <th></th>\n",
       "      <th>midPointTai</th>\n",
       "      <th>psFlux</th>\n",
       "      <th>psFluxErr</th>\n",
       "      <th>filterName</th>\n",
       "    </tr>\n",
       "    <tr>\n",
       "      <th>npartitions=1</th>\n",
       "      <th></th>\n",
       "      <th></th>\n",
       "      <th></th>\n",
       "      <th></th>\n",
       "    </tr>\n",
       "  </thead>\n",
       "  <tbody>\n",
       "    <tr>\n",
       "      <th></th>\n",
       "      <td>float32</td>\n",
       "      <td>float32</td>\n",
       "      <td>float32</td>\n",
       "      <td>object</td>\n",
       "    </tr>\n",
       "    <tr>\n",
       "      <th></th>\n",
       "      <td>...</td>\n",
       "      <td>...</td>\n",
       "      <td>...</td>\n",
       "      <td>...</td>\n",
       "    </tr>\n",
       "  </tbody>\n",
       "</table>\n",
       "</div>\n",
       "<div>Dask Name: read-parquet, 1 tasks</div>"
      ],
      "text/plain": [
       "Dask DataFrame Structure:\n",
       "              midPointTai   psFlux psFluxErr filterName\n",
       "npartitions=1                                          \n",
       "                  float32  float32   float32     object\n",
       "                      ...      ...       ...        ...\n",
       "Dask Name: read-parquet, 1 tasks"
      ]
     },
     "execution_count": 2,
     "metadata": {},
     "output_type": "execute_result"
    }
   ],
   "source": [
    "ens._data  # We have not actually loaded any data into memory"
   ]
  },
  {
   "attachments": {},
   "cell_type": "markdown",
   "metadata": {},
   "source": [
    "Here we are accessing the Dask Dataframe underneath, and despite running a command to read in our data, we only see an empty dataframe with some high-level information available. To explicitly bring the data into memory, we must run a `compute()` command."
   ]
  },
  {
   "cell_type": "code",
   "execution_count": 3,
   "metadata": {},
   "outputs": [
    {
     "data": {
      "text/html": [
       "<div>\n",
       "<style scoped>\n",
       "    .dataframe tbody tr th:only-of-type {\n",
       "        vertical-align: middle;\n",
       "    }\n",
       "\n",
       "    .dataframe tbody tr th {\n",
       "        vertical-align: top;\n",
       "    }\n",
       "\n",
       "    .dataframe thead th {\n",
       "        text-align: right;\n",
       "    }\n",
       "</style>\n",
       "<table border=\"1\" class=\"dataframe\">\n",
       "  <thead>\n",
       "    <tr style=\"text-align: right;\">\n",
       "      <th></th>\n",
       "      <th>midPointTai</th>\n",
       "      <th>psFlux</th>\n",
       "      <th>psFluxErr</th>\n",
       "      <th>filterName</th>\n",
       "    </tr>\n",
       "    <tr>\n",
       "      <th>ps1_objid</th>\n",
       "      <th></th>\n",
       "      <th></th>\n",
       "      <th></th>\n",
       "      <th></th>\n",
       "    </tr>\n",
       "  </thead>\n",
       "  <tbody>\n",
       "    <tr>\n",
       "      <th>88472468910699998</th>\n",
       "      <td>58972.382812</td>\n",
       "      <td>21.035807</td>\n",
       "      <td>0.199991</td>\n",
       "      <td>r</td>\n",
       "    </tr>\n",
       "    <tr>\n",
       "      <th>88472935274829959</th>\n",
       "      <td>58246.460938</td>\n",
       "      <td>18.149910</td>\n",
       "      <td>0.026191</td>\n",
       "      <td>r</td>\n",
       "    </tr>\n",
       "    <tr>\n",
       "      <th>88472935274829959</th>\n",
       "      <td>58249.441406</td>\n",
       "      <td>18.269829</td>\n",
       "      <td>0.028149</td>\n",
       "      <td>r</td>\n",
       "    </tr>\n",
       "    <tr>\n",
       "      <th>88472935274829959</th>\n",
       "      <td>58256.421875</td>\n",
       "      <td>18.243782</td>\n",
       "      <td>0.027706</td>\n",
       "      <td>r</td>\n",
       "    </tr>\n",
       "    <tr>\n",
       "      <th>88472935274829959</th>\n",
       "      <td>58259.445312</td>\n",
       "      <td>18.198299</td>\n",
       "      <td>0.026956</td>\n",
       "      <td>r</td>\n",
       "    </tr>\n",
       "    <tr>\n",
       "      <th>...</th>\n",
       "      <td>...</td>\n",
       "      <td>...</td>\n",
       "      <td>...</td>\n",
       "      <td>...</td>\n",
       "    </tr>\n",
       "    <tr>\n",
       "      <th>88480001353815785</th>\n",
       "      <td>59128.257812</td>\n",
       "      <td>18.197432</td>\n",
       "      <td>0.038719</td>\n",
       "      <td>r</td>\n",
       "    </tr>\n",
       "    <tr>\n",
       "      <th>88480001353815785</th>\n",
       "      <td>59130.257812</td>\n",
       "      <td>18.155918</td>\n",
       "      <td>0.037670</td>\n",
       "      <td>r</td>\n",
       "    </tr>\n",
       "    <tr>\n",
       "      <th>88480001353815785</th>\n",
       "      <td>59134.300781</td>\n",
       "      <td>18.168980</td>\n",
       "      <td>0.037996</td>\n",
       "      <td>r</td>\n",
       "    </tr>\n",
       "    <tr>\n",
       "      <th>88480001353815785</th>\n",
       "      <td>59136.300781</td>\n",
       "      <td>18.125595</td>\n",
       "      <td>0.036927</td>\n",
       "      <td>r</td>\n",
       "    </tr>\n",
       "    <tr>\n",
       "      <th>88480001353815785</th>\n",
       "      <td>59138.277344</td>\n",
       "      <td>18.115007</td>\n",
       "      <td>0.036673</td>\n",
       "      <td>r</td>\n",
       "    </tr>\n",
       "  </tbody>\n",
       "</table>\n",
       "<p>2000 rows × 4 columns</p>\n",
       "</div>"
      ],
      "text/plain": [
       "                    midPointTai     psFlux  psFluxErr filterName\n",
       "ps1_objid                                                       \n",
       "88472468910699998  58972.382812  21.035807   0.199991          r\n",
       "88472935274829959  58246.460938  18.149910   0.026191          r\n",
       "88472935274829959  58249.441406  18.269829   0.028149          r\n",
       "88472935274829959  58256.421875  18.243782   0.027706          r\n",
       "88472935274829959  58259.445312  18.198299   0.026956          r\n",
       "...                         ...        ...        ...        ...\n",
       "88480001353815785  59128.257812  18.197432   0.038719          r\n",
       "88480001353815785  59130.257812  18.155918   0.037670          r\n",
       "88480001353815785  59134.300781  18.168980   0.037996          r\n",
       "88480001353815785  59136.300781  18.125595   0.036927          r\n",
       "88480001353815785  59138.277344  18.115007   0.036673          r\n",
       "\n",
       "[2000 rows x 4 columns]"
      ]
     },
     "execution_count": 3,
     "metadata": {},
     "output_type": "execute_result"
    }
   ],
   "source": [
    "ens.compute() # Compute lets dask know we're ready to bring the data into memory"
   ]
  },
  {
   "attachments": {},
   "cell_type": "markdown",
   "metadata": {},
   "source": [
    "With this compute, we see above that we now have a populated dataframe (a Pandas dataframe in fact!). From this, many workflows in Dask and by extension lsstseries, will look like a series of lazily evaluated commands that are chained together and then executed with a .compute() call at the end of the workflow."
   ]
  },
  {
   "attachments": {},
   "cell_type": "markdown",
   "metadata": {},
   "source": [
    "## Inspection and Filtering"
   ]
  },
  {
   "attachments": {},
   "cell_type": "markdown",
   "metadata": {},
   "source": [
    "The `Ensemble` contains an assortment of functions for inspecting and filtering your data."
   ]
  },
  {
   "attachments": {},
   "cell_type": "markdown",
   "metadata": {},
   "source": [
    "### Inspection"
   ]
  },
  {
   "cell_type": "code",
   "execution_count": 4,
   "metadata": {},
   "outputs": [
    {
     "name": "stdout",
     "output_type": "stream",
     "text": [
      "<class 'dask.dataframe.core.DataFrame'>\n",
      "Columns: 4 entries, midPointTai to filterName\n",
      "dtypes: object(1), float32(3)"
     ]
    }
   ],
   "source": [
    "# Inspection\n",
    "\n",
    "ens.info() # Grabs some high level information about the dataframe\n"
   ]
  },
  {
   "cell_type": "code",
   "execution_count": 5,
   "metadata": {},
   "outputs": [
    {
     "data": {
      "text/html": [
       "<div>\n",
       "<style scoped>\n",
       "    .dataframe tbody tr th:only-of-type {\n",
       "        vertical-align: middle;\n",
       "    }\n",
       "\n",
       "    .dataframe tbody tr th {\n",
       "        vertical-align: top;\n",
       "    }\n",
       "\n",
       "    .dataframe thead th {\n",
       "        text-align: right;\n",
       "    }\n",
       "</style>\n",
       "<table border=\"1\" class=\"dataframe\">\n",
       "  <thead>\n",
       "    <tr style=\"text-align: right;\">\n",
       "      <th></th>\n",
       "      <th>midPointTai</th>\n",
       "      <th>psFlux</th>\n",
       "      <th>psFluxErr</th>\n",
       "      <th>filterName</th>\n",
       "    </tr>\n",
       "    <tr>\n",
       "      <th>ps1_objid</th>\n",
       "      <th></th>\n",
       "      <th></th>\n",
       "      <th></th>\n",
       "      <th></th>\n",
       "    </tr>\n",
       "  </thead>\n",
       "  <tbody>\n",
       "    <tr>\n",
       "      <th>88472468910699998</th>\n",
       "      <td>58972.382812</td>\n",
       "      <td>21.035807</td>\n",
       "      <td>0.199991</td>\n",
       "      <td>r</td>\n",
       "    </tr>\n",
       "    <tr>\n",
       "      <th>88472935274829959</th>\n",
       "      <td>58246.460938</td>\n",
       "      <td>18.149910</td>\n",
       "      <td>0.026191</td>\n",
       "      <td>r</td>\n",
       "    </tr>\n",
       "    <tr>\n",
       "      <th>88472935274829959</th>\n",
       "      <td>58249.441406</td>\n",
       "      <td>18.269829</td>\n",
       "      <td>0.028149</td>\n",
       "      <td>r</td>\n",
       "    </tr>\n",
       "    <tr>\n",
       "      <th>88472935274829959</th>\n",
       "      <td>58256.421875</td>\n",
       "      <td>18.243782</td>\n",
       "      <td>0.027706</td>\n",
       "      <td>r</td>\n",
       "    </tr>\n",
       "    <tr>\n",
       "      <th>88472935274829959</th>\n",
       "      <td>58259.445312</td>\n",
       "      <td>18.198299</td>\n",
       "      <td>0.026956</td>\n",
       "      <td>r</td>\n",
       "    </tr>\n",
       "  </tbody>\n",
       "</table>\n",
       "</div>"
      ],
      "text/plain": [
       "                    midPointTai     psFlux  psFluxErr filterName\n",
       "ps1_objid                                                       \n",
       "88472468910699998  58972.382812  21.035807   0.199991          r\n",
       "88472935274829959  58246.460938  18.149910   0.026191          r\n",
       "88472935274829959  58249.441406  18.269829   0.028149          r\n",
       "88472935274829959  58256.421875  18.243782   0.027706          r\n",
       "88472935274829959  58259.445312  18.198299   0.026956          r"
      ]
     },
     "execution_count": 5,
     "metadata": {},
     "output_type": "execute_result"
    }
   ],
   "source": [
    "ens.head(5) # Grabs the first 5 rows"
   ]
  },
  {
   "cell_type": "code",
   "execution_count": 6,
   "metadata": {},
   "outputs": [
    {
     "data": {
      "text/html": [
       "<div>\n",
       "<style scoped>\n",
       "    .dataframe tbody tr th:only-of-type {\n",
       "        vertical-align: middle;\n",
       "    }\n",
       "\n",
       "    .dataframe tbody tr th {\n",
       "        vertical-align: top;\n",
       "    }\n",
       "\n",
       "    .dataframe thead th {\n",
       "        text-align: right;\n",
       "    }\n",
       "</style>\n",
       "<table border=\"1\" class=\"dataframe\">\n",
       "  <thead>\n",
       "    <tr style=\"text-align: right;\">\n",
       "      <th></th>\n",
       "      <th>midPointTai</th>\n",
       "      <th>psFlux</th>\n",
       "      <th>psFluxErr</th>\n",
       "      <th>filterName</th>\n",
       "    </tr>\n",
       "    <tr>\n",
       "      <th>ps1_objid</th>\n",
       "      <th></th>\n",
       "      <th></th>\n",
       "      <th></th>\n",
       "      <th></th>\n",
       "    </tr>\n",
       "  </thead>\n",
       "  <tbody>\n",
       "    <tr>\n",
       "      <th>88480001353815785</th>\n",
       "      <td>59128.257812</td>\n",
       "      <td>18.197432</td>\n",
       "      <td>0.038719</td>\n",
       "      <td>r</td>\n",
       "    </tr>\n",
       "    <tr>\n",
       "      <th>88480001353815785</th>\n",
       "      <td>59130.257812</td>\n",
       "      <td>18.155918</td>\n",
       "      <td>0.037670</td>\n",
       "      <td>r</td>\n",
       "    </tr>\n",
       "    <tr>\n",
       "      <th>88480001353815785</th>\n",
       "      <td>59134.300781</td>\n",
       "      <td>18.168980</td>\n",
       "      <td>0.037996</td>\n",
       "      <td>r</td>\n",
       "    </tr>\n",
       "    <tr>\n",
       "      <th>88480001353815785</th>\n",
       "      <td>59136.300781</td>\n",
       "      <td>18.125595</td>\n",
       "      <td>0.036927</td>\n",
       "      <td>r</td>\n",
       "    </tr>\n",
       "    <tr>\n",
       "      <th>88480001353815785</th>\n",
       "      <td>59138.277344</td>\n",
       "      <td>18.115007</td>\n",
       "      <td>0.036673</td>\n",
       "      <td>r</td>\n",
       "    </tr>\n",
       "  </tbody>\n",
       "</table>\n",
       "</div>"
      ],
      "text/plain": [
       "                    midPointTai     psFlux  psFluxErr filterName\n",
       "ps1_objid                                                       \n",
       "88480001353815785  59128.257812  18.197432   0.038719          r\n",
       "88480001353815785  59130.257812  18.155918   0.037670          r\n",
       "88480001353815785  59134.300781  18.168980   0.037996          r\n",
       "88480001353815785  59136.300781  18.125595   0.036927          r\n",
       "88480001353815785  59138.277344  18.115007   0.036673          r"
      ]
     },
     "execution_count": 6,
     "metadata": {},
     "output_type": "execute_result"
    }
   ],
   "source": [
    "\n",
    "ens.tail(5) # Grabs the last 5 rows"
   ]
  },
  {
   "attachments": {},
   "cell_type": "markdown",
   "metadata": {},
   "source": [
    "### Filtering"
   ]
  },
  {
   "cell_type": "code",
   "execution_count": 7,
   "metadata": {},
   "outputs": [
    {
     "data": {
      "text/html": [
       "<div>\n",
       "<style scoped>\n",
       "    .dataframe tbody tr th:only-of-type {\n",
       "        vertical-align: middle;\n",
       "    }\n",
       "\n",
       "    .dataframe tbody tr th {\n",
       "        vertical-align: top;\n",
       "    }\n",
       "\n",
       "    .dataframe thead th {\n",
       "        text-align: right;\n",
       "    }\n",
       "</style>\n",
       "<table border=\"1\" class=\"dataframe\">\n",
       "  <thead>\n",
       "    <tr style=\"text-align: right;\">\n",
       "      <th></th>\n",
       "      <th>midPointTai</th>\n",
       "      <th>psFlux</th>\n",
       "      <th>psFluxErr</th>\n",
       "      <th>filterName</th>\n",
       "      <th>num_obs</th>\n",
       "    </tr>\n",
       "    <tr>\n",
       "      <th>ps1_objid</th>\n",
       "      <th></th>\n",
       "      <th></th>\n",
       "      <th></th>\n",
       "      <th></th>\n",
       "      <th></th>\n",
       "    </tr>\n",
       "  </thead>\n",
       "  <tbody>\n",
       "    <tr>\n",
       "      <th>88472935274829959</th>\n",
       "      <td>58246.460938</td>\n",
       "      <td>18.149910</td>\n",
       "      <td>0.026191</td>\n",
       "      <td>r</td>\n",
       "      <td>499</td>\n",
       "    </tr>\n",
       "    <tr>\n",
       "      <th>88472935274829959</th>\n",
       "      <td>58249.441406</td>\n",
       "      <td>18.269829</td>\n",
       "      <td>0.028149</td>\n",
       "      <td>r</td>\n",
       "      <td>499</td>\n",
       "    </tr>\n",
       "    <tr>\n",
       "      <th>88472935274829959</th>\n",
       "      <td>58256.421875</td>\n",
       "      <td>18.243782</td>\n",
       "      <td>0.027706</td>\n",
       "      <td>r</td>\n",
       "      <td>499</td>\n",
       "    </tr>\n",
       "    <tr>\n",
       "      <th>88472935274829959</th>\n",
       "      <td>58259.445312</td>\n",
       "      <td>18.198299</td>\n",
       "      <td>0.026956</td>\n",
       "      <td>r</td>\n",
       "      <td>499</td>\n",
       "    </tr>\n",
       "    <tr>\n",
       "      <th>88472935274829959</th>\n",
       "      <td>58262.378906</td>\n",
       "      <td>18.211143</td>\n",
       "      <td>0.027165</td>\n",
       "      <td>r</td>\n",
       "      <td>499</td>\n",
       "    </tr>\n",
       "    <tr>\n",
       "      <th>...</th>\n",
       "      <td>...</td>\n",
       "      <td>...</td>\n",
       "      <td>...</td>\n",
       "      <td>...</td>\n",
       "      <td>...</td>\n",
       "    </tr>\n",
       "    <tr>\n",
       "      <th>88480001353815785</th>\n",
       "      <td>59128.257812</td>\n",
       "      <td>18.197432</td>\n",
       "      <td>0.038719</td>\n",
       "      <td>r</td>\n",
       "      <td>146</td>\n",
       "    </tr>\n",
       "    <tr>\n",
       "      <th>88480001353815785</th>\n",
       "      <td>59130.257812</td>\n",
       "      <td>18.155918</td>\n",
       "      <td>0.037670</td>\n",
       "      <td>r</td>\n",
       "      <td>146</td>\n",
       "    </tr>\n",
       "    <tr>\n",
       "      <th>88480001353815785</th>\n",
       "      <td>59134.300781</td>\n",
       "      <td>18.168980</td>\n",
       "      <td>0.037996</td>\n",
       "      <td>r</td>\n",
       "      <td>146</td>\n",
       "    </tr>\n",
       "    <tr>\n",
       "      <th>88480001353815785</th>\n",
       "      <td>59136.300781</td>\n",
       "      <td>18.125595</td>\n",
       "      <td>0.036927</td>\n",
       "      <td>r</td>\n",
       "      <td>146</td>\n",
       "    </tr>\n",
       "    <tr>\n",
       "      <th>88480001353815785</th>\n",
       "      <td>59138.277344</td>\n",
       "      <td>18.115007</td>\n",
       "      <td>0.036673</td>\n",
       "      <td>r</td>\n",
       "      <td>146</td>\n",
       "    </tr>\n",
       "  </tbody>\n",
       "</table>\n",
       "<p>1928 rows × 5 columns</p>\n",
       "</div>"
      ],
      "text/plain": [
       "                    midPointTai     psFlux  psFluxErr filterName  num_obs\n",
       "ps1_objid                                                                \n",
       "88472935274829959  58246.460938  18.149910   0.026191          r      499\n",
       "88472935274829959  58249.441406  18.269829   0.028149          r      499\n",
       "88472935274829959  58256.421875  18.243782   0.027706          r      499\n",
       "88472935274829959  58259.445312  18.198299   0.026956          r      499\n",
       "88472935274829959  58262.378906  18.211143   0.027165          r      499\n",
       "...                         ...        ...        ...        ...      ...\n",
       "88480001353815785  59128.257812  18.197432   0.038719          r      146\n",
       "88480001353815785  59130.257812  18.155918   0.037670          r      146\n",
       "88480001353815785  59134.300781  18.168980   0.037996          r      146\n",
       "88480001353815785  59136.300781  18.125595   0.036927          r      146\n",
       "88480001353815785  59138.277344  18.115007   0.036673          r      146\n",
       "\n",
       "[1928 rows x 5 columns]"
      ]
     },
     "execution_count": 7,
     "metadata": {},
     "output_type": "execute_result"
    }
   ],
   "source": [
    "# TODO: GENERAL FILTER FUNCTION\n",
    "\n",
    "# Cleaning nans\n",
    "ens.dropna(threshold=1) # threshold is the number of nans present in a row needed to drop the row\n",
    "\n",
    "# Filtering on number of observations\n",
    "ens.prune(threshold=50) # threshold is the number of observations needed to retain the object\n",
    "\n",
    "ens.compute()"
   ]
  },
  {
   "cell_type": "code",
   "execution_count": 8,
   "metadata": {},
   "outputs": [
    {
     "data": {
      "text/plain": [
       "<lsstseries.ensemble.Ensemble at 0x10619f640>"
      ]
     },
     "execution_count": 8,
     "metadata": {},
     "output_type": "execute_result"
    }
   ],
   "source": [
    "ens.__del__()"
   ]
  },
  {
   "cell_type": "code",
   "execution_count": null,
   "metadata": {},
   "outputs": [],
   "source": []
  }
 ],
 "metadata": {
  "kernelspec": {
   "display_name": "py310",
   "language": "python",
   "name": "python3"
  },
  "language_info": {
   "codemirror_mode": {
    "name": "ipython",
    "version": 3
   },
   "file_extension": ".py",
   "mimetype": "text/x-python",
   "name": "python",
   "nbconvert_exporter": "python",
   "pygments_lexer": "ipython3",
   "version": "3.10.6"
  },
  "orig_nbformat": 4,
  "vscode": {
   "interpreter": {
    "hash": "08968836a6367873274ed1d5e98a07391f42fc3a62bd5aba54afbd7b11ba8673"
   }
  }
 },
 "nbformat": 4,
 "nbformat_minor": 2
}
