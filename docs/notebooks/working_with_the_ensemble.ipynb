{
 "cells": [
  {
   "attachments": {},
   "cell_type": "markdown",
   "metadata": {},
   "source": [
    "# Working with the lsstseries `Ensemble` object"
   ]
  },
  {
   "attachments": {},
   "cell_type": "markdown",
   "metadata": {},
   "source": [
    "When working with many lightcurves, the lsstseries `Ensemble` object serves as a singular interface for storing, filtering, and analyzing timeseries data. \n",
    "Let's consider an example set of lightcurves:"
   ]
  },
  {
   "cell_type": "code",
   "execution_count": 1,
   "metadata": {},
   "outputs": [
    {
     "data": {
      "text/plain": [
       "<lsstseries.ensemble.Ensemble at 0x10699f610>"
      ]
     },
     "execution_count": 1,
     "metadata": {},
     "output_type": "execute_result"
    }
   ],
   "source": [
    "from lsstseries.ensemble import Ensemble\n",
    "\n",
    "ens = Ensemble()  # initialize an ensemble object\n",
    "\n",
    "# Read in data from a parquet file\n",
    "ens.from_parquet(\"../../tests/lsstseries_tests/data/test_subset.parquet\",\n",
    "                id_col='ps1_objid',\n",
    "                time_col='midPointTai',\n",
    "                flux_col='psFlux',\n",
    "                err_col='psFluxErr',\n",
    "                band_col='filterName')"
   ]
  },
  {
   "attachments": {},
   "cell_type": "markdown",
   "metadata": {},
   "source": [
    "We now have an `Ensemble` object, and have provided it with data from a parquet file. Within the call to `Ensemble.from_parquet`, we specified which columns of the input file mapped to timeseries quantities that the `Ensemble` needs to understand. It's important to link these arguments properly, as the `Ensemble` will use these columns when operations are requested on understood quantities. For example, if an lsstseries analysis function requires the time column, from this linking the `Ensemble` will automatically supply that function with the 'midPointTai' column."
   ]
  },
  {
   "attachments": {},
   "cell_type": "markdown",
   "metadata": {},
   "source": [
    "## Dask and \"Lazy Evaluation\"\n",
    "\n",
    "Before going any further, the `Ensemble` is built on top of `Dask`, which brings with it a powerful framework for parallelization and scalability. However, there are some differences in how `Dask` code works that, if you're unfamiliar with it, is worth establishing right here at the get-go. The first is that `Dask` evaluates code \"lazily\". Meaning that many operations are not executed when the line of code is run, but instead are added to a scheduler to be executed when the result is actually needed. See below for an example:"
   ]
  },
  {
   "cell_type": "code",
   "execution_count": 2,
   "metadata": {},
   "outputs": [
    {
     "data": {
      "text/html": [
       "<div><strong>Dask DataFrame Structure:</strong></div>\n",
       "<div>\n",
       "<style scoped>\n",
       "    .dataframe tbody tr th:only-of-type {\n",
       "        vertical-align: middle;\n",
       "    }\n",
       "\n",
       "    .dataframe tbody tr th {\n",
       "        vertical-align: top;\n",
       "    }\n",
       "\n",
       "    .dataframe thead th {\n",
       "        text-align: right;\n",
       "    }\n",
       "</style>\n",
       "<table border=\"1\" class=\"dataframe\">\n",
       "  <thead>\n",
       "    <tr style=\"text-align: right;\">\n",
       "      <th></th>\n",
       "      <th>midPointTai</th>\n",
       "      <th>psFlux</th>\n",
       "      <th>psFluxErr</th>\n",
       "      <th>filterName</th>\n",
       "    </tr>\n",
       "    <tr>\n",
       "      <th>npartitions=1</th>\n",
       "      <th></th>\n",
       "      <th></th>\n",
       "      <th></th>\n",
       "      <th></th>\n",
       "    </tr>\n",
       "  </thead>\n",
       "  <tbody>\n",
       "    <tr>\n",
       "      <th></th>\n",
       "      <td>float32</td>\n",
       "      <td>float32</td>\n",
       "      <td>float32</td>\n",
       "      <td>object</td>\n",
       "    </tr>\n",
       "    <tr>\n",
       "      <th></th>\n",
       "      <td>...</td>\n",
       "      <td>...</td>\n",
       "      <td>...</td>\n",
       "      <td>...</td>\n",
       "    </tr>\n",
       "  </tbody>\n",
       "</table>\n",
       "</div>\n",
       "<div>Dask Name: read-parquet, 1 tasks</div>"
      ],
      "text/plain": [
       "Dask DataFrame Structure:\n",
       "              midPointTai   psFlux psFluxErr filterName\n",
       "npartitions=1                                          \n",
       "                  float32  float32   float32     object\n",
       "                      ...      ...       ...        ...\n",
       "Dask Name: read-parquet, 1 tasks"
      ]
     },
     "execution_count": 2,
     "metadata": {},
     "output_type": "execute_result"
    }
   ],
   "source": [
    "ens._data  # We have not actually loaded any data into memory"
   ]
  },
  {
   "attachments": {},
   "cell_type": "markdown",
   "metadata": {},
   "source": [
    "Here we are accessing the Dask Dataframe underneath, and despite running a command to read in our data, we only see an empty dataframe with some high-level information available. To explicitly bring the data into memory, we must run a `compute()` command."
   ]
  },
  {
   "cell_type": "code",
   "execution_count": 3,
   "metadata": {},
   "outputs": [
    {
     "data": {
      "text/html": [
       "<div>\n",
       "<style scoped>\n",
       "    .dataframe tbody tr th:only-of-type {\n",
       "        vertical-align: middle;\n",
       "    }\n",
       "\n",
       "    .dataframe tbody tr th {\n",
       "        vertical-align: top;\n",
       "    }\n",
       "\n",
       "    .dataframe thead th {\n",
       "        text-align: right;\n",
       "    }\n",
       "</style>\n",
       "<table border=\"1\" class=\"dataframe\">\n",
       "  <thead>\n",
       "    <tr style=\"text-align: right;\">\n",
       "      <th></th>\n",
       "      <th>midPointTai</th>\n",
       "      <th>psFlux</th>\n",
       "      <th>psFluxErr</th>\n",
       "      <th>filterName</th>\n",
       "    </tr>\n",
       "    <tr>\n",
       "      <th>ps1_objid</th>\n",
       "      <th></th>\n",
       "      <th></th>\n",
       "      <th></th>\n",
       "      <th></th>\n",
       "    </tr>\n",
       "  </thead>\n",
       "  <tbody>\n",
       "    <tr>\n",
       "      <th>88472468910699998</th>\n",
       "      <td>58972.382812</td>\n",
       "      <td>21.035807</td>\n",
       "      <td>0.199991</td>\n",
       "      <td>r</td>\n",
       "    </tr>\n",
       "    <tr>\n",
       "      <th>88472935274829959</th>\n",
       "      <td>58246.460938</td>\n",
       "      <td>18.149910</td>\n",
       "      <td>0.026191</td>\n",
       "      <td>r</td>\n",
       "    </tr>\n",
       "    <tr>\n",
       "      <th>88472935274829959</th>\n",
       "      <td>58249.441406</td>\n",
       "      <td>18.269829</td>\n",
       "      <td>0.028149</td>\n",
       "      <td>r</td>\n",
       "    </tr>\n",
       "    <tr>\n",
       "      <th>88472935274829959</th>\n",
       "      <td>58256.421875</td>\n",
       "      <td>18.243782</td>\n",
       "      <td>0.027706</td>\n",
       "      <td>r</td>\n",
       "    </tr>\n",
       "    <tr>\n",
       "      <th>88472935274829959</th>\n",
       "      <td>58259.445312</td>\n",
       "      <td>18.198299</td>\n",
       "      <td>0.026956</td>\n",
       "      <td>r</td>\n",
       "    </tr>\n",
       "    <tr>\n",
       "      <th>...</th>\n",
       "      <td>...</td>\n",
       "      <td>...</td>\n",
       "      <td>...</td>\n",
       "      <td>...</td>\n",
       "    </tr>\n",
       "    <tr>\n",
       "      <th>88480001353815785</th>\n",
       "      <td>59128.257812</td>\n",
       "      <td>18.197432</td>\n",
       "      <td>0.038719</td>\n",
       "      <td>r</td>\n",
       "    </tr>\n",
       "    <tr>\n",
       "      <th>88480001353815785</th>\n",
       "      <td>59130.257812</td>\n",
       "      <td>18.155918</td>\n",
       "      <td>0.037670</td>\n",
       "      <td>r</td>\n",
       "    </tr>\n",
       "    <tr>\n",
       "      <th>88480001353815785</th>\n",
       "      <td>59134.300781</td>\n",
       "      <td>18.168980</td>\n",
       "      <td>0.037996</td>\n",
       "      <td>r</td>\n",
       "    </tr>\n",
       "    <tr>\n",
       "      <th>88480001353815785</th>\n",
       "      <td>59136.300781</td>\n",
       "      <td>18.125595</td>\n",
       "      <td>0.036927</td>\n",
       "      <td>r</td>\n",
       "    </tr>\n",
       "    <tr>\n",
       "      <th>88480001353815785</th>\n",
       "      <td>59138.277344</td>\n",
       "      <td>18.115007</td>\n",
       "      <td>0.036673</td>\n",
       "      <td>r</td>\n",
       "    </tr>\n",
       "  </tbody>\n",
       "</table>\n",
       "<p>2000 rows × 4 columns</p>\n",
       "</div>"
      ],
      "text/plain": [
       "                    midPointTai     psFlux  psFluxErr filterName\n",
       "ps1_objid                                                       \n",
       "88472468910699998  58972.382812  21.035807   0.199991          r\n",
       "88472935274829959  58246.460938  18.149910   0.026191          r\n",
       "88472935274829959  58249.441406  18.269829   0.028149          r\n",
       "88472935274829959  58256.421875  18.243782   0.027706          r\n",
       "88472935274829959  58259.445312  18.198299   0.026956          r\n",
       "...                         ...        ...        ...        ...\n",
       "88480001353815785  59128.257812  18.197432   0.038719          r\n",
       "88480001353815785  59130.257812  18.155918   0.037670          r\n",
       "88480001353815785  59134.300781  18.168980   0.037996          r\n",
       "88480001353815785  59136.300781  18.125595   0.036927          r\n",
       "88480001353815785  59138.277344  18.115007   0.036673          r\n",
       "\n",
       "[2000 rows x 4 columns]"
      ]
     },
     "execution_count": 3,
     "metadata": {},
     "output_type": "execute_result"
    }
   ],
   "source": [
    "ens.compute() # Compute lets dask know we're ready to bring the data into memory"
   ]
  },
  {
   "attachments": {},
   "cell_type": "markdown",
   "metadata": {},
   "source": [
    "With this compute, we see above that we now have a populated dataframe (a Pandas dataframe in fact!). From this, many workflows in Dask and by extension lsstseries, will look like a series of lazily evaluated commands that are chained together and then executed with a .compute() call at the end of the workflow."
   ]
  },
  {
   "attachments": {},
   "cell_type": "markdown",
   "metadata": {},
   "source": [
    "## Inspection and Filtering\n",
    "\n",
    "The `Ensemble` contains an assortment of functions for inspecting and filtering your data."
   ]
  },
  {
   "attachments": {},
   "cell_type": "markdown",
   "metadata": {},
   "source": [
    "### Inspection\n",
    "\n",
    "These functions provide views into the contents of your `Ensemble` dataframe, especially important when dealing with large data volumes that cannot be brought into memory all at once. The first is `Ensemble.info` which provides information on the columns, data types, and memory usage of the dataframe."
   ]
  },
  {
   "cell_type": "code",
   "execution_count": 4,
   "metadata": {},
   "outputs": [
    {
     "name": "stdout",
     "output_type": "stream",
     "text": [
      "<class 'dask.dataframe.core.DataFrame'>\n",
      "Int64Index: 2000 entries, 88472468910699998 to 88480001353815785\n",
      "Data columns (total 4 columns):\n",
      " #   Column       Non-Null Count  Dtype\n",
      "---  ------       --------------  -----\n",
      " 0   midPointTai  2000 non-null      float32\n",
      " 1   psFlux       2000 non-null      float32\n",
      " 2   psFluxErr    2000 non-null      float32\n",
      " 3   filterName   2000 non-null      object\n",
      "dtypes: object(1), float32(3)\n",
      "memory usage: 54.7 KB\n"
     ]
    }
   ],
   "source": [
    "# Inspection\n",
    "\n",
    "ens.info(verbose=True, memory_usage=True) # Grabs high level information about the dataframe\n"
   ]
  },
  {
   "attachments": {},
   "cell_type": "markdown",
   "metadata": {},
   "source": [
    "`Ensemble.info` shows that we have 2000 rows with 54.7 KBs of used memory, and shows the columns we've brought in with their respective data types. If you'd like to actually bring a few rows into memory to inspect, `Ensemble.head` and `Ensemble.tail` provide access to the first n and last n rows respectively."
   ]
  },
  {
   "cell_type": "code",
   "execution_count": 5,
   "metadata": {},
   "outputs": [
    {
     "data": {
      "text/html": [
       "<div>\n",
       "<style scoped>\n",
       "    .dataframe tbody tr th:only-of-type {\n",
       "        vertical-align: middle;\n",
       "    }\n",
       "\n",
       "    .dataframe tbody tr th {\n",
       "        vertical-align: top;\n",
       "    }\n",
       "\n",
       "    .dataframe thead th {\n",
       "        text-align: right;\n",
       "    }\n",
       "</style>\n",
       "<table border=\"1\" class=\"dataframe\">\n",
       "  <thead>\n",
       "    <tr style=\"text-align: right;\">\n",
       "      <th></th>\n",
       "      <th>midPointTai</th>\n",
       "      <th>psFlux</th>\n",
       "      <th>psFluxErr</th>\n",
       "      <th>filterName</th>\n",
       "    </tr>\n",
       "    <tr>\n",
       "      <th>ps1_objid</th>\n",
       "      <th></th>\n",
       "      <th></th>\n",
       "      <th></th>\n",
       "      <th></th>\n",
       "    </tr>\n",
       "  </thead>\n",
       "  <tbody>\n",
       "    <tr>\n",
       "      <th>88472468910699998</th>\n",
       "      <td>58972.382812</td>\n",
       "      <td>21.035807</td>\n",
       "      <td>0.199991</td>\n",
       "      <td>r</td>\n",
       "    </tr>\n",
       "    <tr>\n",
       "      <th>88472935274829959</th>\n",
       "      <td>58246.460938</td>\n",
       "      <td>18.149910</td>\n",
       "      <td>0.026191</td>\n",
       "      <td>r</td>\n",
       "    </tr>\n",
       "    <tr>\n",
       "      <th>88472935274829959</th>\n",
       "      <td>58249.441406</td>\n",
       "      <td>18.269829</td>\n",
       "      <td>0.028149</td>\n",
       "      <td>r</td>\n",
       "    </tr>\n",
       "    <tr>\n",
       "      <th>88472935274829959</th>\n",
       "      <td>58256.421875</td>\n",
       "      <td>18.243782</td>\n",
       "      <td>0.027706</td>\n",
       "      <td>r</td>\n",
       "    </tr>\n",
       "    <tr>\n",
       "      <th>88472935274829959</th>\n",
       "      <td>58259.445312</td>\n",
       "      <td>18.198299</td>\n",
       "      <td>0.026956</td>\n",
       "      <td>r</td>\n",
       "    </tr>\n",
       "  </tbody>\n",
       "</table>\n",
       "</div>"
      ],
      "text/plain": [
       "                    midPointTai     psFlux  psFluxErr filterName\n",
       "ps1_objid                                                       \n",
       "88472468910699998  58972.382812  21.035807   0.199991          r\n",
       "88472935274829959  58246.460938  18.149910   0.026191          r\n",
       "88472935274829959  58249.441406  18.269829   0.028149          r\n",
       "88472935274829959  58256.421875  18.243782   0.027706          r\n",
       "88472935274829959  58259.445312  18.198299   0.026956          r"
      ]
     },
     "execution_count": 5,
     "metadata": {},
     "output_type": "execute_result"
    }
   ],
   "source": [
    "ens.head(5) # Grabs the first 5 rows"
   ]
  },
  {
   "cell_type": "code",
   "execution_count": 6,
   "metadata": {},
   "outputs": [
    {
     "data": {
      "text/html": [
       "<div>\n",
       "<style scoped>\n",
       "    .dataframe tbody tr th:only-of-type {\n",
       "        vertical-align: middle;\n",
       "    }\n",
       "\n",
       "    .dataframe tbody tr th {\n",
       "        vertical-align: top;\n",
       "    }\n",
       "\n",
       "    .dataframe thead th {\n",
       "        text-align: right;\n",
       "    }\n",
       "</style>\n",
       "<table border=\"1\" class=\"dataframe\">\n",
       "  <thead>\n",
       "    <tr style=\"text-align: right;\">\n",
       "      <th></th>\n",
       "      <th>midPointTai</th>\n",
       "      <th>psFlux</th>\n",
       "      <th>psFluxErr</th>\n",
       "      <th>filterName</th>\n",
       "    </tr>\n",
       "    <tr>\n",
       "      <th>ps1_objid</th>\n",
       "      <th></th>\n",
       "      <th></th>\n",
       "      <th></th>\n",
       "      <th></th>\n",
       "    </tr>\n",
       "  </thead>\n",
       "  <tbody>\n",
       "    <tr>\n",
       "      <th>88480001353815785</th>\n",
       "      <td>59128.257812</td>\n",
       "      <td>18.197432</td>\n",
       "      <td>0.038719</td>\n",
       "      <td>r</td>\n",
       "    </tr>\n",
       "    <tr>\n",
       "      <th>88480001353815785</th>\n",
       "      <td>59130.257812</td>\n",
       "      <td>18.155918</td>\n",
       "      <td>0.037670</td>\n",
       "      <td>r</td>\n",
       "    </tr>\n",
       "    <tr>\n",
       "      <th>88480001353815785</th>\n",
       "      <td>59134.300781</td>\n",
       "      <td>18.168980</td>\n",
       "      <td>0.037996</td>\n",
       "      <td>r</td>\n",
       "    </tr>\n",
       "    <tr>\n",
       "      <th>88480001353815785</th>\n",
       "      <td>59136.300781</td>\n",
       "      <td>18.125595</td>\n",
       "      <td>0.036927</td>\n",
       "      <td>r</td>\n",
       "    </tr>\n",
       "    <tr>\n",
       "      <th>88480001353815785</th>\n",
       "      <td>59138.277344</td>\n",
       "      <td>18.115007</td>\n",
       "      <td>0.036673</td>\n",
       "      <td>r</td>\n",
       "    </tr>\n",
       "  </tbody>\n",
       "</table>\n",
       "</div>"
      ],
      "text/plain": [
       "                    midPointTai     psFlux  psFluxErr filterName\n",
       "ps1_objid                                                       \n",
       "88480001353815785  59128.257812  18.197432   0.038719          r\n",
       "88480001353815785  59130.257812  18.155918   0.037670          r\n",
       "88480001353815785  59134.300781  18.168980   0.037996          r\n",
       "88480001353815785  59136.300781  18.125595   0.036927          r\n",
       "88480001353815785  59138.277344  18.115007   0.036673          r"
      ]
     },
     "execution_count": 6,
     "metadata": {},
     "output_type": "execute_result"
    }
   ],
   "source": [
    "\n",
    "ens.tail(5) # Grabs the last 5 rows"
   ]
  },
  {
   "attachments": {},
   "cell_type": "markdown",
   "metadata": {},
   "source": [
    "Additionally, when you are working with a small enough dataset, `Ensemble.compute` can be used to bring the whole dataframe into memory (as shown previously). "
   ]
  },
  {
   "cell_type": "code",
   "execution_count": 7,
   "metadata": {},
   "outputs": [
    {
     "data": {
      "text/html": [
       "<div>\n",
       "<style scoped>\n",
       "    .dataframe tbody tr th:only-of-type {\n",
       "        vertical-align: middle;\n",
       "    }\n",
       "\n",
       "    .dataframe tbody tr th {\n",
       "        vertical-align: top;\n",
       "    }\n",
       "\n",
       "    .dataframe thead th {\n",
       "        text-align: right;\n",
       "    }\n",
       "</style>\n",
       "<table border=\"1\" class=\"dataframe\">\n",
       "  <thead>\n",
       "    <tr style=\"text-align: right;\">\n",
       "      <th></th>\n",
       "      <th>midPointTai</th>\n",
       "      <th>psFlux</th>\n",
       "      <th>psFluxErr</th>\n",
       "      <th>filterName</th>\n",
       "    </tr>\n",
       "    <tr>\n",
       "      <th>ps1_objid</th>\n",
       "      <th></th>\n",
       "      <th></th>\n",
       "      <th></th>\n",
       "      <th></th>\n",
       "    </tr>\n",
       "  </thead>\n",
       "  <tbody>\n",
       "    <tr>\n",
       "      <th>88472468910699998</th>\n",
       "      <td>58972.382812</td>\n",
       "      <td>21.035807</td>\n",
       "      <td>0.199991</td>\n",
       "      <td>r</td>\n",
       "    </tr>\n",
       "    <tr>\n",
       "      <th>88472935274829959</th>\n",
       "      <td>58246.460938</td>\n",
       "      <td>18.149910</td>\n",
       "      <td>0.026191</td>\n",
       "      <td>r</td>\n",
       "    </tr>\n",
       "    <tr>\n",
       "      <th>88472935274829959</th>\n",
       "      <td>58249.441406</td>\n",
       "      <td>18.269829</td>\n",
       "      <td>0.028149</td>\n",
       "      <td>r</td>\n",
       "    </tr>\n",
       "    <tr>\n",
       "      <th>88472935274829959</th>\n",
       "      <td>58256.421875</td>\n",
       "      <td>18.243782</td>\n",
       "      <td>0.027706</td>\n",
       "      <td>r</td>\n",
       "    </tr>\n",
       "    <tr>\n",
       "      <th>88472935274829959</th>\n",
       "      <td>58259.445312</td>\n",
       "      <td>18.198299</td>\n",
       "      <td>0.026956</td>\n",
       "      <td>r</td>\n",
       "    </tr>\n",
       "    <tr>\n",
       "      <th>...</th>\n",
       "      <td>...</td>\n",
       "      <td>...</td>\n",
       "      <td>...</td>\n",
       "      <td>...</td>\n",
       "    </tr>\n",
       "    <tr>\n",
       "      <th>88480001353815785</th>\n",
       "      <td>59128.257812</td>\n",
       "      <td>18.197432</td>\n",
       "      <td>0.038719</td>\n",
       "      <td>r</td>\n",
       "    </tr>\n",
       "    <tr>\n",
       "      <th>88480001353815785</th>\n",
       "      <td>59130.257812</td>\n",
       "      <td>18.155918</td>\n",
       "      <td>0.037670</td>\n",
       "      <td>r</td>\n",
       "    </tr>\n",
       "    <tr>\n",
       "      <th>88480001353815785</th>\n",
       "      <td>59134.300781</td>\n",
       "      <td>18.168980</td>\n",
       "      <td>0.037996</td>\n",
       "      <td>r</td>\n",
       "    </tr>\n",
       "    <tr>\n",
       "      <th>88480001353815785</th>\n",
       "      <td>59136.300781</td>\n",
       "      <td>18.125595</td>\n",
       "      <td>0.036927</td>\n",
       "      <td>r</td>\n",
       "    </tr>\n",
       "    <tr>\n",
       "      <th>88480001353815785</th>\n",
       "      <td>59138.277344</td>\n",
       "      <td>18.115007</td>\n",
       "      <td>0.036673</td>\n",
       "      <td>r</td>\n",
       "    </tr>\n",
       "  </tbody>\n",
       "</table>\n",
       "<p>2000 rows × 4 columns</p>\n",
       "</div>"
      ],
      "text/plain": [
       "                    midPointTai     psFlux  psFluxErr filterName\n",
       "ps1_objid                                                       \n",
       "88472468910699998  58972.382812  21.035807   0.199991          r\n",
       "88472935274829959  58246.460938  18.149910   0.026191          r\n",
       "88472935274829959  58249.441406  18.269829   0.028149          r\n",
       "88472935274829959  58256.421875  18.243782   0.027706          r\n",
       "88472935274829959  58259.445312  18.198299   0.026956          r\n",
       "...                         ...        ...        ...        ...\n",
       "88480001353815785  59128.257812  18.197432   0.038719          r\n",
       "88480001353815785  59130.257812  18.155918   0.037670          r\n",
       "88480001353815785  59134.300781  18.168980   0.037996          r\n",
       "88480001353815785  59136.300781  18.125595   0.036927          r\n",
       "88480001353815785  59138.277344  18.115007   0.036673          r\n",
       "\n",
       "[2000 rows x 4 columns]"
      ]
     },
     "execution_count": 7,
     "metadata": {},
     "output_type": "execute_result"
    }
   ],
   "source": [
    "ens.compute()"
   ]
  },
  {
   "attachments": {},
   "cell_type": "markdown",
   "metadata": {},
   "source": [
    "### Filtering\n",
    "\n",
    "Filtering encompasses any action that removes rows from the dataframe as a result of some determining threshold/criteria. The `Ensemble` provides a general filtering function, as shown below [TO DO]"
   ]
  },
  {
   "cell_type": "code",
   "execution_count": 8,
   "metadata": {},
   "outputs": [],
   "source": [
    "# TODO: GENERAL FILTER FUNCTION"
   ]
  },
  {
   "attachments": {},
   "cell_type": "markdown",
   "metadata": {},
   "source": [
    "Additionally, several more specific functions are available for common operations."
   ]
  },
  {
   "cell_type": "code",
   "execution_count": 9,
   "metadata": {},
   "outputs": [
    {
     "name": "stdout",
     "output_type": "stream",
     "text": [
      "<class 'dask.dataframe.core.DataFrame'>\n",
      "Int64Index: 1928 entries, 88472935274829959 to 88480001353815785\n",
      "Data columns (total 5 columns):\n",
      " #   Column       Non-Null Count  Dtype\n",
      "---  ------       --------------  -----\n",
      " 0   midPointTai  1928 non-null      float32\n",
      " 1   psFlux       1928 non-null      float32\n",
      " 2   psFluxErr    1928 non-null      float32\n",
      " 3   filterName   1928 non-null      object\n",
      " 4   num_obs      1928 non-null      int64\n",
      "dtypes: object(1), float32(3), int64(1)\n",
      "memory usage: 67.8 KB\n"
     ]
    }
   ],
   "source": [
    "# Cleaning nans\n",
    "ens.dropna(threshold=1) # threshold is the number of nans present in a row needed to drop the row\n",
    "\n",
    "# Filtering on number of observations\n",
    "ens.prune(threshold=50) # threshold is the number of observations needed to retain the object\n",
    "\n",
    "ens.info(verbose=True)"
   ]
  },
  {
   "attachments": {},
   "cell_type": "markdown",
   "metadata": {},
   "source": [
    "In the above operations, we remove any rows that have at least 1 NaN value present. And then filter such that only lightcurves which have at least 50 measurements are retained. We see then that `Ensemble.info` shows we've reduced the size of the dataset from 2000 rows to 1928 rows."
   ]
  },
  {
   "attachments": {},
   "cell_type": "markdown",
   "metadata": {},
   "source": [
    "## Batch Analysis\n",
    "\n",
    "The `Ensemble` provides a powerful batching interface, `Ensemble.batch`, with in-built parallelization (provided the input data is in multiple partitions). In addition, lsstseries has a suite of analysis functions on-hand for your use. Below, we show the application of `lsstseries.analysis.calc_stetson_J` on our dataset."
   ]
  },
  {
   "cell_type": "code",
   "execution_count": 10,
   "metadata": {},
   "outputs": [
    {
     "data": {
      "text/plain": [
       "ps1_objid\n",
       "88472935274829959      {'g': -0.04174282, 'r': 0.6075282}\n",
       "88480000290704349    {'g': -0.15279391, 'r': -0.19460204}\n",
       "88480000340043358       {'g': 0.49833068, 'r': 0.5957333}\n",
       "88480000543134170    {'g': -0.23631111, 'r': -0.21187533}\n",
       "88480001064201774       {'g': 0.13734582, 'r': 0.2295931}\n",
       "88480001238615003    {'g': 0.011276966, 'r': 0.093267344}\n",
       "88480001239454674    {'g': 0.011276966, 'r': 0.093267344}\n",
       "88480001353815785                       {'r': 0.09490132}\n",
       "Name: ps1_objid, dtype: object"
      ]
     },
     "execution_count": 10,
     "metadata": {},
     "output_type": "execute_result"
    }
   ],
   "source": [
    "# using lsstseries analysis functions\n",
    "from lsstseries.analysis import calc_stetson_J\n",
    "res = ens.batch(calc_stetson_J, compute=True) # compute is set to true to execute immediately (non-lazily)\n",
    "res"
   ]
  },
  {
   "attachments": {},
   "cell_type": "markdown",
   "metadata": {},
   "source": [
    "## Using a Custom Analysis Function\n",
    "The analysis functions contained in lsstseries are meant to provide a collection of performant, on-hand routines for common timeseries use cases. However, lsstseries is also equipped to handle externally defined functions. Let's walk through a short example of defining a simple custom function and applying it through `Ensemble.batch`.\n",
    "\n",
    "Here we define a simple function, that returns an average flux for each photometric band. It requires an array of fluxes, an array of band labels per measurement, and has a keyword argument for determining which averaging strategy to use (mean or median)."
   ]
  },
  {
   "cell_type": "code",
   "execution_count": 11,
   "metadata": {},
   "outputs": [],
   "source": [
    "import numpy as np\n",
    "\n",
    "# Defining a simple function\n",
    "def my_flux_average(flux_array, band_array, method='mean'):\n",
    "    \"\"\"Read in an array of fluxes, and return the average of the fluxes by band\"\"\"\n",
    "    res = {}\n",
    "    for band in np.unique(band_array):\n",
    "        mask = [band_array == band]  # Create a band by band mask\n",
    "        band_fluxes = flux_array[tuple(mask)]  # Mask the flux array\n",
    "        if method == \"mean\":\n",
    "            res[band] = np.mean(band_fluxes)\n",
    "        elif method == \"median\":\n",
    "            res[band] = np.median(band_fluxes)\n",
    "    return res"
   ]
  },
  {
   "attachments": {},
   "cell_type": "markdown",
   "metadata": {},
   "source": [
    "With the function defined, we next supply it to `Ensemble.batch`. The column labels of the `Ensemble` columns we want to use as arguments must be provided, as well as any keyword arguments. In this case, we pass along `\"psFlux\"` and `\"filterName\"`, so that the `Ensemble` will map those columns to `flux_array` and `band_array` respectively. We also pass `method='mean'`, which will pass that kwarg along to `my_flux_average`."
   ]
  },
  {
   "cell_type": "code",
   "execution_count": 12,
   "metadata": {},
   "outputs": [
    {
     "data": {
      "text/plain": [
       "ps1_objid\n",
       "88472935274829959    {'g': 18.912304, 'r': 18.221779}\n",
       "88480000290704349     {'g': 20.49425, 'r': 20.169392}\n",
       "88480000340043358    {'g': 15.461195, 'r': 15.025036}\n",
       "88480000543134170    {'g': 20.640196, 'r': 19.817234}\n",
       "88480001064201774    {'g': 17.595337, 'r': 17.169535}\n",
       "88480001238615003    {'g': 21.040936, 'r': 20.400923}\n",
       "88480001239454674    {'g': 21.040936, 'r': 20.400923}\n",
       "88480001353815785                    {'r': 18.165283}\n",
       "Name: ps1_objid, dtype: object"
      ]
     },
     "execution_count": 12,
     "metadata": {},
     "output_type": "execute_result"
    }
   ],
   "source": [
    "# Applying the function to the ensemble\n",
    "res = ens.batch(my_flux_average, \"psFlux\", \"filterName\", compute=True, meta=None, method='median')\n",
    "res"
   ]
  },
  {
   "attachments": {},
   "cell_type": "markdown",
   "metadata": {},
   "source": [
    "We see that we now have a `Pandas.series` of `my_average_flux` result by object_id (lightcurve). In many cases, this may not be the ideal output for your function. This output is controlled by the `Dask` `meta` parameter. For more information on this parameter, you can read the `Dask` [documentation](https://blog.dask.org/2022/08/09/understanding-meta-keyword-argument). You may pass the `meta` parameter through `Ensemble.batch`, as shown above."
   ]
  },
  {
   "cell_type": "code",
   "execution_count": 13,
   "metadata": {},
   "outputs": [
    {
     "data": {
      "text/plain": [
       "<lsstseries.ensemble.Ensemble at 0x10699f610>"
      ]
     },
     "execution_count": 13,
     "metadata": {},
     "output_type": "execute_result"
    }
   ],
   "source": [
    "ens.__del__() # Tear down the ensemble client, TODO: we should make a wrapper function for this"
   ]
  },
  {
   "cell_type": "code",
   "execution_count": null,
   "metadata": {},
   "outputs": [],
   "source": []
  }
 ],
 "metadata": {
  "kernelspec": {
   "display_name": "py310",
   "language": "python",
   "name": "python3"
  },
  "language_info": {
   "codemirror_mode": {
    "name": "ipython",
    "version": 3
   },
   "file_extension": ".py",
   "mimetype": "text/x-python",
   "name": "python",
   "nbconvert_exporter": "python",
   "pygments_lexer": "ipython3",
   "version": "3.10.6"
  },
  "orig_nbformat": 4,
  "vscode": {
   "interpreter": {
    "hash": "08968836a6367873274ed1d5e98a07391f42fc3a62bd5aba54afbd7b11ba8673"
   }
  }
 },
 "nbformat": 4,
 "nbformat_minor": 2
}
